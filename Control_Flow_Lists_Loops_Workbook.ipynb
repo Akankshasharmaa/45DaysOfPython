{
  "cells": [
    {
      "cell_type": "markdown",
      "metadata": {
        "id": "view-in-github",
        "colab_type": "text"
      },
      "source": [
        "<a href=\"https://colab.research.google.com/github/Akankshasharmaa/45DaysOfPython/blob/main/Control_Flow_Lists_Loops_Workbook.ipynb\" target=\"_parent\"><img src=\"https://colab.research.google.com/assets/colab-badge.svg\" alt=\"Open In Colab\"/></a>"
      ]
    },
    {
      "cell_type": "markdown",
      "id": "9e8dcdbd",
      "metadata": {
        "id": "9e8dcdbd"
      },
      "source": [
        "<img src=\"https://static1.squarespace.com/static/613f1e4d6b0212660acd9923/t/614b246e46489736a4adabb4/1632314478756/Horizontal_nobackground.png?format=1500w\">"
      ]
    },
    {
      "cell_type": "markdown",
      "id": "c4717848",
      "metadata": {
        "id": "c4717848"
      },
      "source": [
        "# Flow Control 1: Lists, For/While Loops, and List Comprehension"
      ]
    },
    {
      "cell_type": "markdown",
      "id": "5d033371",
      "metadata": {
        "id": "5d033371"
      },
      "source": [
        "## 1. What is a List?\n",
        "\n",
        "In Python, a list is a collection of items that can be changed (mutable). You can create a list by placing all the items (elements) inside square brackets [], separated by commas. It can have items of different types. The positions in a list start at 0, not 1.\n",
        "\n",
        "Creating a list is as simple as placing different comma-separated values between square brackets."
      ]
    },
    {
      "cell_type": "code",
      "execution_count": null,
      "id": "61c6acd9",
      "metadata": {
        "id": "61c6acd9"
      },
      "outputs": [],
      "source": [
        "fruits = [\"apple\", \"banana\", \"cherry\"]\n",
        "numbers = [1, 2, 3, 4, 5]\n",
        "mixed_list = [\"apple\", 1, 3.5]"
      ]
    },
    {
      "cell_type": "markdown",
      "id": "0bd3fe3c",
      "metadata": {
        "id": "0bd3fe3c"
      },
      "source": [
        "To access an element in a list, you use the index of that item, enclosed in square brackets. For example, my_list[0] will give you the first item in my_list."
      ]
    },
    {
      "cell_type": "markdown",
      "id": "4aab620e",
      "metadata": {
        "id": "4aab620e"
      },
      "source": [
        "<img src=\"https://railsware.com/blog/wp-content/uploads/2018/10/positive-indexes.png\">"
      ]
    },
    {
      "cell_type": "code",
      "execution_count": null,
      "id": "48d39861",
      "metadata": {
        "id": "48d39861",
        "outputId": "1884bfa4-21e4-4e29-adfc-b458b98a8591"
      },
      "outputs": [
        {
          "data": {
            "text/plain": [
              "'black'"
            ]
          },
          "execution_count": 3,
          "metadata": {},
          "output_type": "execute_result"
        }
      ],
      "source": [
        "colors = [\"red\",\"green\",\"blue\",\"yellow\",\"white\",\"black\"]\n",
        "\n",
        "colors[5]"
      ]
    },
    {
      "cell_type": "markdown",
      "id": "f6551be4",
      "metadata": {
        "id": "f6551be4"
      },
      "source": [
        "Creating a list of numbers using range()"
      ]
    },
    {
      "cell_type": "code",
      "execution_count": null,
      "id": "fd620fd1",
      "metadata": {
        "id": "fd620fd1",
        "outputId": "b865f9bc-42e2-40df-a847-4f0dd2cf18e9"
      },
      "outputs": [
        {
          "data": {
            "text/plain": [
              "[0, 1, 2, 3, 4, 5, 6, 7, 8, 9, 10]"
            ]
          },
          "execution_count": 4,
          "metadata": {},
          "output_type": "execute_result"
        }
      ],
      "source": [
        "list_numbers = list(range(0,11))\n",
        "list_numbers"
      ]
    },
    {
      "cell_type": "markdown",
      "id": "fa1a2e4c",
      "metadata": {
        "id": "fa1a2e4c"
      },
      "source": [
        "## 2. List Methods\n",
        "\n",
        "Lists in Python come with several useful methods that allow you to modify the list. Here are some commonly used list methods with examples:\n",
        "\n",
        "- **append():** Adds an element to the end of the list.\n",
        "- **extend():** Adds elements from another list or any iterable to the end.\n",
        "- **insert():** Inserts an item at a specified position.\n",
        "- **remove():** Removes the first item with the specified value.\n",
        "- **pop():** Removes the element at a specified position or the last item if the index is not specified.\n",
        "- **index():** Returns the position of the first occurrence of the specified value.\n",
        "- **count():** Returns the number of times a value appears in the list.\n",
        "- **sort():** Sorts the list in ascending order.\n",
        "- **reverse():** Reverses the order of the list.\n"
      ]
    },
    {
      "cell_type": "code",
      "execution_count": null,
      "id": "7f635876",
      "metadata": {
        "id": "7f635876"
      },
      "outputs": [],
      "source": [
        "# Creating a list of colors\n",
        "colors = [\"red\", \"green\", \"blue\", \"yellow\"]"
      ]
    },
    {
      "cell_type": "code",
      "execution_count": null,
      "id": "c5563acd",
      "metadata": {
        "id": "c5563acd"
      },
      "outputs": [],
      "source": [
        "# Using append()\n"
      ]
    },
    {
      "cell_type": "code",
      "execution_count": null,
      "id": "f7a20ece",
      "metadata": {
        "id": "f7a20ece"
      },
      "outputs": [],
      "source": [
        "# Using extend()\n"
      ]
    },
    {
      "cell_type": "code",
      "execution_count": null,
      "id": "01faae84",
      "metadata": {
        "id": "01faae84"
      },
      "outputs": [],
      "source": [
        "# Using insert()\n"
      ]
    },
    {
      "cell_type": "code",
      "execution_count": null,
      "id": "08d86c86",
      "metadata": {
        "id": "08d86c86"
      },
      "outputs": [],
      "source": [
        "# Using remove()\n"
      ]
    },
    {
      "cell_type": "code",
      "execution_count": null,
      "id": "5217442a",
      "metadata": {
        "id": "5217442a"
      },
      "outputs": [],
      "source": [
        "# Using pop()\n"
      ]
    },
    {
      "cell_type": "code",
      "execution_count": null,
      "id": "2b60e434",
      "metadata": {
        "id": "2b60e434"
      },
      "outputs": [],
      "source": [
        "# Using index()\n"
      ]
    },
    {
      "cell_type": "code",
      "execution_count": null,
      "id": "ad58e99a",
      "metadata": {
        "id": "ad58e99a"
      },
      "outputs": [],
      "source": [
        "# Using count()\n"
      ]
    },
    {
      "cell_type": "code",
      "execution_count": null,
      "id": "aca296c6",
      "metadata": {
        "id": "aca296c6"
      },
      "outputs": [],
      "source": [
        "numbers = [4, 1, 3, 2]"
      ]
    },
    {
      "cell_type": "code",
      "execution_count": null,
      "id": "b735c79e",
      "metadata": {
        "id": "b735c79e"
      },
      "outputs": [],
      "source": [
        "# Using sort()\n"
      ]
    },
    {
      "cell_type": "code",
      "execution_count": null,
      "id": "72307792",
      "metadata": {
        "id": "72307792"
      },
      "outputs": [],
      "source": [
        "# Using reverse()\n"
      ]
    },
    {
      "cell_type": "markdown",
      "id": "eb05a288",
      "metadata": {
        "id": "eb05a288"
      },
      "source": [
        "## 3. Slicing\n",
        "\n",
        "Slicing is a method used to extract a subset of a list. It involves specifying a start and end index to retrieve a portion of the list.\n",
        "\n",
        "Basic slicing operations\n",
        "\n",
        "Using the format: [start:stop:step]. Example:"
      ]
    },
    {
      "cell_type": "code",
      "execution_count": null,
      "id": "d47dbe6b",
      "metadata": {
        "id": "d47dbe6b",
        "outputId": "ce4e2610-a0d0-46a7-b790-66165d626a22"
      },
      "outputs": [
        {
          "data": {
            "text/plain": [
              "['red', 'green', 'blue', 'yellow']"
            ]
          },
          "execution_count": 16,
          "metadata": {},
          "output_type": "execute_result"
        }
      ],
      "source": [
        "colors"
      ]
    },
    {
      "cell_type": "code",
      "execution_count": null,
      "id": "80befb14",
      "metadata": {
        "id": "80befb14"
      },
      "outputs": [],
      "source": []
    },
    {
      "cell_type": "markdown",
      "id": "89e3f9e6",
      "metadata": {
        "id": "89e3f9e6"
      },
      "source": [
        "## EXERCISES:\n",
        "\n",
        "\n",
        "Exercise:\n",
        "\n",
        "a. Create a list named animals and add the following items: \"lion\", \"tiger\", \"bear\".\n",
        "\n",
        "b. Print the second item in the animals list.\n",
        "\n",
        "c. Change the value of the third item to \"wolf\".\n",
        "\n",
        "d. Add \"elephant\" to the end of the animals list.\n",
        "\n",
        "e. Add another animal \"giraffe\" to the animals list using the append() method.\n",
        "\n",
        "f. Insert the animal \"monkey\" at the second position in the animals list.\n",
        "\n",
        "g. Reverse the order of items in the animals list.\n",
        "\n",
        "h. Print the first three items in the animals list.\n",
        "\n",
        "i. Print the last two items in the animals list.\n",
        "\n"
      ]
    },
    {
      "cell_type": "code",
      "execution_count": null,
      "id": "4311eed5",
      "metadata": {
        "id": "4311eed5"
      },
      "outputs": [],
      "source": [
        "# a. Creating the list\n"
      ]
    },
    {
      "cell_type": "code",
      "execution_count": null,
      "id": "f9d5ad55",
      "metadata": {
        "id": "f9d5ad55"
      },
      "outputs": [],
      "source": [
        "# b. Print the second item\n"
      ]
    },
    {
      "cell_type": "code",
      "execution_count": null,
      "id": "fe267312",
      "metadata": {
        "id": "fe267312"
      },
      "outputs": [],
      "source": [
        "# c. Change the third item\n"
      ]
    },
    {
      "cell_type": "code",
      "execution_count": null,
      "id": "3964dce3",
      "metadata": {
        "id": "3964dce3"
      },
      "outputs": [],
      "source": [
        "# d. Add \"elephant\"\n"
      ]
    },
    {
      "cell_type": "code",
      "execution_count": null,
      "id": "cf580bd9",
      "metadata": {
        "id": "cf580bd9"
      },
      "outputs": [],
      "source": [
        "# e. Add \"giraffe\" with append()\n"
      ]
    },
    {
      "cell_type": "code",
      "execution_count": null,
      "id": "c9995c3f",
      "metadata": {
        "id": "c9995c3f"
      },
      "outputs": [],
      "source": [
        "# f. Insert \"monkey\" at the second position\n"
      ]
    },
    {
      "cell_type": "code",
      "execution_count": null,
      "id": "fb1bee00",
      "metadata": {
        "id": "fb1bee00"
      },
      "outputs": [],
      "source": [
        "# g. Reverse the order\n"
      ]
    },
    {
      "cell_type": "code",
      "execution_count": null,
      "id": "de03b008",
      "metadata": {
        "id": "de03b008"
      },
      "outputs": [],
      "source": [
        "# h. Print the first three items\n"
      ]
    },
    {
      "cell_type": "code",
      "execution_count": null,
      "id": "71458197",
      "metadata": {
        "id": "71458197"
      },
      "outputs": [],
      "source": [
        "# i. Print the last two items\n"
      ]
    },
    {
      "cell_type": "markdown",
      "id": "25c38dff",
      "metadata": {
        "id": "25c38dff"
      },
      "source": [
        "# BREAK"
      ]
    },
    {
      "cell_type": "markdown",
      "id": "7bb2da66",
      "metadata": {
        "id": "7bb2da66"
      },
      "source": [
        "## 4. Loops\n",
        "\n",
        "Loops are a fundamental concept in programming, allowing you to execute a block of code repeatedly. Python provides several types of loops, of which the for loop is one of the most commonly used.\n",
        "\n",
        "### 4.1 For Loops\n",
        "\n",
        "A for loop in Python is used to iterate over a sequence (this could be a list, a tuple, a dictionary, a set, or a string).\n",
        "\n",
        "With a for loop, you can execute a set of statements, once for each item in a list."
      ]
    },
    {
      "cell_type": "code",
      "execution_count": null,
      "id": "3c6b2637",
      "metadata": {
        "id": "3c6b2637",
        "outputId": "984e7911-5087-4d82-efa2-965fb79587ae"
      },
      "outputs": [
        {
          "name": "stdout",
          "output_type": "stream",
          "text": [
            "dog\n",
            "cat\n",
            "bird\n"
          ]
        }
      ],
      "source": [
        "animals = [\"dog\", \"cat\", \"bird\"]\n",
        "\n",
        "for animal in animals:\n",
        "    print(animal)"
      ]
    },
    {
      "cell_type": "markdown",
      "id": "af139aa3",
      "metadata": {
        "id": "af139aa3"
      },
      "source": [
        "Range of Numbers\n",
        "\n",
        "You can also use for loops with a range of numbers, which is often used for repeating an action a specific number of times.\n"
      ]
    },
    {
      "cell_type": "code",
      "execution_count": null,
      "id": "b83ff742",
      "metadata": {
        "id": "b83ff742",
        "outputId": "16501df3-d95b-4925-e403-ba3e16b00ec5"
      },
      "outputs": [
        {
          "name": "stdout",
          "output_type": "stream",
          "text": [
            "0\n",
            "1\n",
            "2\n",
            "3\n",
            "4\n"
          ]
        }
      ],
      "source": [
        "for i in range(5):\n",
        "    print(i)"
      ]
    },
    {
      "cell_type": "markdown",
      "id": "56b46d5e",
      "metadata": {
        "id": "56b46d5e"
      },
      "source": [
        "## Loops with break and continue\n",
        "\n",
        "In a loop, the break statement allows you to exit the loop when a certain condition is met. The continue statement skips the current iteration and continues with the next iteration.\n",
        "\n",
        "Using break"
      ]
    },
    {
      "cell_type": "code",
      "execution_count": null,
      "id": "eedf7b6f",
      "metadata": {
        "id": "eedf7b6f",
        "outputId": "a12fffad-42cd-4b70-8a60-acc38f845d50"
      },
      "outputs": [
        {
          "name": "stdout",
          "output_type": "stream",
          "text": [
            "0\n",
            "1\n",
            "2\n",
            "3\n",
            "4\n"
          ]
        }
      ],
      "source": [
        "for i in range(10):\n",
        "    if i == 5:\n",
        "        break\n",
        "    print(i)"
      ]
    },
    {
      "cell_type": "code",
      "execution_count": null,
      "id": "46e89f26",
      "metadata": {
        "id": "46e89f26",
        "outputId": "543e6dd5-f749-4d14-fa89-d8eddc31f684"
      },
      "outputs": [
        {
          "name": "stdout",
          "output_type": "stream",
          "text": [
            "1\n",
            "3\n",
            "5\n",
            "7\n",
            "9\n"
          ]
        }
      ],
      "source": [
        "for i in range(10):\n",
        "    if i % 2 == 0:\n",
        "        continue\n",
        "    print(i)"
      ]
    },
    {
      "cell_type": "markdown",
      "id": "1e77e317",
      "metadata": {
        "id": "1e77e317"
      },
      "source": [
        "### 4.2 While Loops\n",
        "\n",
        "While loops in Python are a way to repeatedly execute a block of code as long as a condition is true. They're particularly useful when you don't know beforehand how many times you'll need to iterate.\n",
        "\n",
        "\n",
        "#### Basic Example with while\n",
        "\n",
        "A while loop continues executing until its condition becomes False. Here's a simple example that prints numbers from 1 to 5."
      ]
    },
    {
      "cell_type": "code",
      "execution_count": null,
      "id": "a6fa80ea",
      "metadata": {
        "id": "a6fa80ea",
        "outputId": "bc2cf3fb-9700-4f6e-aa5c-db33e5c3577e"
      },
      "outputs": [
        {
          "name": "stdout",
          "output_type": "stream",
          "text": [
            "1\n",
            "2\n",
            "3\n",
            "4\n",
            "5\n"
          ]
        }
      ],
      "source": [
        "count = 1\n",
        "while count <= 5:\n",
        "    print(count)\n",
        "    count += 1\n"
      ]
    },
    {
      "cell_type": "markdown",
      "id": "309132bc",
      "metadata": {
        "id": "309132bc"
      },
      "source": [
        "Example with while and a Counter\n",
        "\n",
        "We can use a counter to control how many times we want the loop to execute. This example is similar to the previous one but clearly illustrates the use of a counter."
      ]
    },
    {
      "cell_type": "code",
      "execution_count": null,
      "id": "c3ea8403",
      "metadata": {
        "id": "c3ea8403",
        "outputId": "40cc38e7-c521-4bea-ce56-13197e3196d3"
      },
      "outputs": [
        {
          "name": "stdout",
          "output_type": "stream",
          "text": [
            "Counter is at 0.\n",
            "Counter is at 1.\n",
            "Counter is at 2.\n"
          ]
        }
      ],
      "source": [
        "counter = 0\n",
        "while counter < 3:\n",
        "    print(f\"Counter is at {counter}.\")\n",
        "    counter += 1\n"
      ]
    },
    {
      "cell_type": "markdown",
      "id": "3c380bd8",
      "metadata": {
        "id": "3c380bd8"
      },
      "source": [
        "This loop will print the state of the counter and then increment the counter by 1 each time, stopping after 3 iterations."
      ]
    },
    {
      "cell_type": "markdown",
      "id": "9df5c8f6",
      "metadata": {
        "id": "9df5c8f6"
      },
      "source": [
        "#### Example of while with Lists\n",
        "\n",
        "While loops can also be useful when working with lists, for example, when you're removing or processing elements until the list is empty."
      ]
    },
    {
      "cell_type": "code",
      "execution_count": null,
      "id": "3841f63f",
      "metadata": {
        "id": "3841f63f",
        "outputId": "9f1d7d3f-47d4-417b-e7e1-e7543c166927"
      },
      "outputs": [
        {
          "name": "stdout",
          "output_type": "stream",
          "text": [
            "Removing cherry from the list.\n",
            "Removing banana from the list.\n",
            "Removing apple from the list.\n"
          ]
        }
      ],
      "source": [
        "items = [\"apple\", \"banana\", \"cherry\"]\n",
        "\n",
        "while items:\n",
        "    print(f\"Removing {items.pop()} from the list.\")\n"
      ]
    },
    {
      "cell_type": "code",
      "execution_count": null,
      "id": "b0580039",
      "metadata": {
        "id": "b0580039",
        "outputId": "479ae4a6-324c-439f-d8f9-cb61fd1445eb"
      },
      "outputs": [
        {
          "data": {
            "text/plain": [
              "[]"
            ]
          },
          "execution_count": 33,
          "metadata": {},
          "output_type": "execute_result"
        }
      ],
      "source": [
        "items"
      ]
    },
    {
      "cell_type": "markdown",
      "id": "f3455fa7",
      "metadata": {
        "id": "f3455fa7"
      },
      "source": [
        "### Example of an Infinite Loop and How to Stop It\n",
        "\n",
        "A while loop becomes infinite if its condition never becomes False. Here's an example and how you can manually stop it:"
      ]
    },
    {
      "cell_type": "code",
      "execution_count": null,
      "id": "33d504ab",
      "metadata": {
        "id": "33d504ab",
        "outputId": "7945bd62-280a-4be7-af83-a143096abaa4"
      },
      "outputs": [
        {
          "name": "stdout",
          "output_type": "stream",
          "text": [
            "Type 'exit' to stop the loop: \n",
            "Type 'exit' to stop the loop: exit\n"
          ]
        }
      ],
      "source": [
        "while True:\n",
        "    response = input(\"Type 'exit' to stop the loop: \")\n",
        "    if response == 'exit':\n",
        "        break\n"
      ]
    },
    {
      "cell_type": "markdown",
      "source": [],
      "metadata": {
        "id": "d2vJrd9LNcX-"
      },
      "id": "d2vJrd9LNcX-"
    },
    {
      "cell_type": "markdown",
      "source": [
        "<h2>Python Exercises: Lists and Loops</h2>\n",
        "\n",
        "<p><strong>Easy Level</strong></p>\n",
        "<ol>\n",
        "    <li>Create a list named <code>numbers</code> containing numbers 1 through 5, then print it.</li>\n",
        "    <li>Given the list <code>animals = [\"dog\", \"cat\", \"bird\"]</code>, print the second item.</li>\n",
        "    <li>Change the third item in the list <code>animals</code> to \"fish\", and then print the full list.</li>\n",
        "    <li>Add the number 6 to the <code>numbers</code> list using the <code>append()</code> method, and display the updated list.</li>\n",
        "    <li>Remove the item \"cat\" from the <code>animals</code> list using the <code>remove()</code> method, and display the updated list.</li>\n",
        "</ol>\n",
        "\n",
        "<p><strong>Intermediate Level</strong></p>\n",
        "<ol start=\"6\">\n",
        "    <li>Create another list named <code>more_numbers</code> with numbers 7, 8, and 9. Extend the <code>numbers</code> list with <code>more_numbers</code> and display the result.</li>\n",
        "    <li>Insert the number 0 at the beginning of the <code>numbers</code> list using the <code>insert()</code> method, and display the updated list.</li>\n",
        "    <li>Reverse the order of the <code>numbers</code> list using the <code>reverse()</code> method, and display the reversed list.</li>\n",
        "    <li>Use slicing to print the first three items in the <code>numbers</code> list.</li>\n",
        "    <li>Use slicing to print the last two items in the <code>numbers</code> list.</li>\n",
        "</ol>\n",
        "\n",
        "<p><strong>Challenging Level</strong></p>\n",
        "<ol start=\"11\">\n",
        "    <li>Loop through the <code>animals</code> list and print each item.</li>\n",
        "    <li>Using a <code>for</code> loop and <code>range()</code>, print numbers 1 to 10.</li>\n",
        "    <li>Create a <code>while</code> loop that counts down from 5 to 1, printing each number.</li>\n",
        "    <li>Write a <code>for</code> loop that iterates over <code>numbers</code> and prints each number squared (<code>**2</code>).</li>\n",
        "    <li>Write a <code>while</code> loop that asks the user for input and breaks the loop if the user types \"exit\".</li>\n",
        "</ol>\n",
        "\n",
        "<p><strong>Advanced Level</strong></p>\n",
        "<ol start=\"16\">\n",
        "    <li>Write a <code>for</code> loop that uses <code>if</code>/<code>else</code> to print \"even\" for even numbers and \"odd\" for odd numbers in the <code>numbers</code> list.</li>\n",
        "    <li>Modify the <code>animals</code> list with a loop so that each animal's name is capitalized, and then print the updated list.</li>\n",
        "    <li>Write a <code>while</code> loop that removes and prints the last item in the <code>animals</code> list until it's empty.</li>\n",
        "    <li>Create a list comprehension that contains the squares of all numbers in the <code>numbers</code> list, and print the new list.</li>\n",
        "    <li>Write a <code>for</code> loop that iterates over the <code>numbers</code> list to print each number, but use the <code>continue</code> statement to skip the number 5.</li>\n",
        "</ol>\n"
      ],
      "metadata": {
        "id": "a3FGR415Nd6J"
      },
      "id": "a3FGR415Nd6J"
    },
    {
      "cell_type": "markdown",
      "id": "d844108c",
      "metadata": {
        "id": "d844108c"
      },
      "source": [
        "# Game: Guess the Word\n",
        "\n",
        "## Game Overview\n",
        "\n",
        "In \"Guess the Word,\" the computer selects a word at random from a list. The word is hidden from the player, who tries to guess it by suggesting letters within a certain number of guesses.\n",
        "\n",
        "\n",
        "## Learning Objectives\n",
        "\n",
        "Use lists to store game data (e.g., the list of possible words and the letters guessed so far).\n",
        "Implement for and while loops to iterate over collections and repeat actions until certain conditions are met.\n",
        "Utilize control flow statements (if, else, break) to handle different game states and outcomes."
      ]
    },
    {
      "cell_type": "markdown",
      "id": "d2831e7c",
      "metadata": {
        "id": "d2831e7c"
      },
      "source": [
        "## Steps to Code the Game\n",
        "\n",
        "### Set Up the Game\n",
        "\n",
        "Create a list of words for the game.\n",
        "Select a word randomly from the list for the player to guess.\n",
        "Keep track of the letters the player has guessed and the number of incorrect guesses.\n",
        "Gameplay Loop\n",
        "\n",
        "### Display the word to the player with unguessed letters as underscores (e.g., _a__ for \"game\" if the player has guessed \"a\").\n",
        "\n",
        "Ask the player to guess a letter.\n",
        "Check if the guessed letter is in the word.\n",
        "If the letter is in the word, update the display to show this letter in its correct positions.\n",
        "If the letter is not in the word, increase the count of incorrect guesses.\n",
        "Repeat until the player guesses the word correctly or runs out of guesses.\n",
        "End of Game\n",
        "\n",
        "If the player guesses the word before running out of guesses, they win.\n",
        "If the player runs out of guesses without guessing the word, the game ends, and the player loses.\n",
        "Display the correct word at the end of the game."
      ]
    },
    {
      "cell_type": "code",
      "execution_count": null,
      "id": "7f60c532",
      "metadata": {
        "id": "7f60c532"
      },
      "outputs": [],
      "source": [
        "import random\n",
        "\n",
        "# List of words\n",
        "words = ['python', 'programming', 'coder', 'algorithm', 'function']\n",
        "\n",
        "# Select a random word\n",
        "word = random.choice(words)\n",
        "\n",
        "# //TODO"
      ]
    }
  ],
  "metadata": {
    "kernelspec": {
      "display_name": "Python 3 (ipykernel)",
      "language": "python",
      "name": "python3"
    },
    "language_info": {
      "codemirror_mode": {
        "name": "ipython",
        "version": 3
      },
      "file_extension": ".py",
      "mimetype": "text/x-python",
      "name": "python",
      "nbconvert_exporter": "python",
      "pygments_lexer": "ipython3",
      "version": "3.11.4"
    },
    "colab": {
      "provenance": [],
      "include_colab_link": true
    }
  },
  "nbformat": 4,
  "nbformat_minor": 5
}